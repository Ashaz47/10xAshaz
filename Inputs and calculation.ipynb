{
 "cells": [
  {
   "cell_type": "code",
   "execution_count": 6,
   "id": "a8dff873",
   "metadata": {},
   "outputs": [
    {
     "name": "stdout",
     "output_type": "stream",
     "text": [
      "Enter any number here(A) : 23\n",
      "Enter any number here(B) : 45\n",
      "1035.0\n",
      "68.0\n",
      "-22.0\n",
      "0.5111111111111111\n"
     ]
    }
   ],
   "source": [
    "A = float(input(\"Enter any number here(A) : \"))\n",
    "B = float(input(\"Enter any number here(B) : \"))\n",
    "print(A*B)\n",
    "print(A+B)\n",
    "print(A-B)\n",
    "print(A/B)\n"
   ]
  },
  {
   "cell_type": "code",
   "execution_count": null,
   "id": "d86411c1",
   "metadata": {},
   "outputs": [],
   "source": []
  }
 ],
 "metadata": {
  "kernelspec": {
   "display_name": "Python 3 (ipykernel)",
   "language": "python",
   "name": "python3"
  },
  "language_info": {
   "codemirror_mode": {
    "name": "ipython",
    "version": 3
   },
   "file_extension": ".py",
   "mimetype": "text/x-python",
   "name": "python",
   "nbconvert_exporter": "python",
   "pygments_lexer": "ipython3",
   "version": "3.11.5"
  }
 },
 "nbformat": 4,
 "nbformat_minor": 5
}
