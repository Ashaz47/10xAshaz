{
 "cells": [
  {
   "cell_type": "code",
   "execution_count": 1,
   "id": "02caa388",
   "metadata": {},
   "outputs": [
    {
     "name": "stdout",
     "output_type": "stream",
     "text": [
      "Hi there!How can I help you? \n",
      "You: hello\n",
      "You: Jarvis\n",
      "You: bye\n"
     ]
    }
   ],
   "source": [
    "import pyttsx3\n",
    "\n",
    "engine = pyttsx3.init()\n",
    "responses = {\n",
    "    \"hello\": \"Hello! my name is Jarvis\",\n",
    "    \"how are you?\": \"I'm just a program but thankyou for asking!\",\n",
    "    \"ironman\": \"Ironman is also known as Tony stark\",\n",
    "    \"jarvis\": \"Yes sir?\"}\n",
    "\n",
    "def get_jarvis_responses(user_input):\n",
    "    says = responses.get(user_input, \"I'm not sure how to respond to that.\")\n",
    "    return says\n",
    "\n",
    "rate =engine.getProperty('rate')\n",
    "engine.setProperty('rate',rate - 90)\n",
    "def start_chat():\n",
    "    print(\"Hi there!How can I help you? \")\n",
    "    while True:\n",
    "        user_input = input(\"You: \").lower()\n",
    "        if user_input == \"bye\":\n",
    "            engine.say(\"Goodbye! have a great day!\")\n",
    "            engine.runAndWait()\n",
    "            break\n",
    "        jarvis_says =get_jarvis_responses(user_input)\n",
    "        engine.say(jarvis_says)\n",
    "        engine.runAndWait()\n",
    "    \n",
    "start_chat()\n"
   ]
  },
  {
   "cell_type": "code",
   "execution_count": null,
   "id": "42488ac4",
   "metadata": {},
   "outputs": [],
   "source": []
  },
  {
   "cell_type": "code",
   "execution_count": null,
   "id": "cb467817",
   "metadata": {},
   "outputs": [],
   "source": []
  },
  {
   "cell_type": "code",
   "execution_count": null,
   "id": "c6273691",
   "metadata": {},
   "outputs": [],
   "source": []
  }
 ],
 "metadata": {
  "kernelspec": {
   "display_name": "Python 3 (ipykernel)",
   "language": "python",
   "name": "python3"
  },
  "language_info": {
   "codemirror_mode": {
    "name": "ipython",
    "version": 3
   },
   "file_extension": ".py",
   "mimetype": "text/x-python",
   "name": "python",
   "nbconvert_exporter": "python",
   "pygments_lexer": "ipython3",
   "version": "3.11.5"
  }
 },
 "nbformat": 4,
 "nbformat_minor": 5
}
