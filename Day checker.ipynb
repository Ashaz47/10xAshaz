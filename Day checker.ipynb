{
 "cells": [
  {
   "cell_type": "code",
   "execution_count": null,
   "id": "9b2ccae3",
   "metadata": {},
   "outputs": [],
   "source": [
    "day=int(input(\"please enter a number here (1 to 7): \"))\n",
    "if day > 7 or day == 0:\n",
    "    print(\"Invalid\")\n",
    "elif day == 1 :\n",
    "    print(\"Monday is day 1 \")\n",
    "elif day == 2 :\n",
    "    print(\"Tuesday is Day 2\")\n",
    "elif day == 3 :\n",
    "    print(\"Wednesday is day 3\")\n",
    "elif day == 4 :\n",
    "    print(\"Thursday is day 4\")\n",
    "elif day == 5 :\n",
    "    print(\"Friday is day 5\")\n",
    "elif day == 6 :\n",
    "    print(\"Saturday is day 6\")\n",
    "elif day == 7 :\n",
    "    print(\"Sunday is day 7\")\n"
   ]
  },
  {
   "cell_type": "code",
   "execution_count": 15,
   "id": "435d0a58",
   "metadata": {},
   "outputs": [
    {
     "name": "stdout",
     "output_type": "stream",
     "text": [
      "please enter a number here (1 to 7): 3\n",
      "Wednesday\n"
     ]
    }
   ],
   "source": [
    "day=int(input(\"please enter a number here (1 to 7): \"))\n",
    "week={1:\"Monday\", 2:\"Tuesday\", 3:\"Wednesday\",4:\"Thursday\",5:\"Friday\",6:\"Saturday\",7:\"Sunday\"}\n",
    "if day > 7 or day == 0:\n",
    "    print(\"Invalid\")\n",
    "elif day == 1 :\n",
    "    print(week[1])\n",
    "elif day == 2 :\n",
    "    print(week[2])\n",
    "elif day == 3 :\n",
    "    print(week[3])\n",
    "elif day == 4 :\n",
    "    print(week[4])\n",
    "elif day == 5 :\n",
    "    print(week[5])\n",
    "elif day == 6 :\n",
    "    print(week[6])\n",
    "elif day == 7 :\n",
    "    print(week[7])"
   ]
  },
  {
   "cell_type": "code",
   "execution_count": 5,
   "id": "7ce63d16",
   "metadata": {},
   "outputs": [
    {
     "name": "stdout",
     "output_type": "stream",
     "text": [
      "please enter a number here (1 to 7): 9\n",
      "invalid\n"
     ]
    }
   ],
   "source": [
    "\n",
    "day=int(input(\"please enter a number here (1 to 7): \"))\n",
    "week=[\"Monday\",\"Tuesday\",\"Wednesday\",\"Thursday\",\"Friday\",\"Saturday\",\"Sunday\"]\n",
    "if(day<7 and day>1):\n",
    "    print(week[day-1])\n",
    "else:\n",
    "    print(\"invalid\")\n"
   ]
  },
  {
   "cell_type": "code",
   "execution_count": null,
   "id": "675b5b0b",
   "metadata": {},
   "outputs": [],
   "source": []
  },
  {
   "cell_type": "code",
   "execution_count": null,
   "id": "73bb8ac0",
   "metadata": {},
   "outputs": [],
   "source": []
  }
 ],
 "metadata": {
  "kernelspec": {
   "display_name": "Python 3 (ipykernel)",
   "language": "python",
   "name": "python3"
  },
  "language_info": {
   "codemirror_mode": {
    "name": "ipython",
    "version": 3
   },
   "file_extension": ".py",
   "mimetype": "text/x-python",
   "name": "python",
   "nbconvert_exporter": "python",
   "pygments_lexer": "ipython3",
   "version": "3.11.5"
  }
 },
 "nbformat": 4,
 "nbformat_minor": 5
}
