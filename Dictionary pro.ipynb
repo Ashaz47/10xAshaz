{
 "cells": [
  {
   "cell_type": "code",
   "execution_count": 3,
   "id": "30fb6bab",
   "metadata": {},
   "outputs": [
    {
     "name": "stdout",
     "output_type": "stream",
     "text": [
      "{'Cuba': 'Havana', 'Australia': 'Canberra', 'Afghanistan': 'Kabul', 'India': 'Delhi', 'Algeria': 'Algiers'}\n",
      "{'Cuba': 'Havana', 'Australia': 'Canberra', 'Afghanistan': 'Kabul', 'India': 'Delhi', 'Algeria': 'Algiers', 'Germany': 'Berlin'}\n",
      "Delhi\n",
      "6\n"
     ]
    }
   ],
   "source": [
    "countries = {\"Cuba\" : \"Havana\", \"Australia\" : \"Canberra\" , \"Afghanistan\" : \"Kabul\" , \"India\" : \"Delhi\" , \"Algeria\" : \"Algiers\"}\n",
    "print(countries)\n",
    "countries[\"Germany\"]= \"Berlin\"\n",
    "print(countries)\n",
    "print(countries[\"India\"])\n",
    "print(len(countries))"
   ]
  },
  {
   "cell_type": "code",
   "execution_count": null,
   "id": "6bfc8190",
   "metadata": {},
   "outputs": [],
   "source": []
  }
 ],
 "metadata": {
  "kernelspec": {
   "display_name": "Python 3 (ipykernel)",
   "language": "python",
   "name": "python3"
  },
  "language_info": {
   "codemirror_mode": {
    "name": "ipython",
    "version": 3
   },
   "file_extension": ".py",
   "mimetype": "text/x-python",
   "name": "python",
   "nbconvert_exporter": "python",
   "pygments_lexer": "ipython3",
   "version": "3.11.5"
  }
 },
 "nbformat": 4,
 "nbformat_minor": 5
}
