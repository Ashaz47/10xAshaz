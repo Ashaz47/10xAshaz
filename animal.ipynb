{
 "cells": [
  {
   "cell_type": "code",
   "execution_count": 2,
   "id": "6a189928",
   "metadata": {},
   "outputs": [
    {
     "name": "stdout",
     "output_type": "stream",
     "text": [
      "     Animal    Type     Habitat       Diet  Lifespan  Endangered\n",
      "0      Lion  Mammal  Grasslands  Carnivore        20       False\n",
      "1   Penguin    Bird  Antarctica  Carnivore        15       False\n",
      "2  Elephant  Mammal      Jungle  Herbivore        60        True\n",
      "3   Giraffe  Mammal    Savannah  Herbivore        25       False\n",
      "4   Dolphin  Mammal       Ocean  Carnivore        30       False\n"
     ]
    }
   ],
   "source": [
    "import pandas as pd\n",
    "#replace 'your_data.csv' with the actual file path\n",
    "animal = 'animal.csv'\n",
    "#Read csv file into a dataframe\n",
    "df = pd.read_csv(animal)\n",
    "#Display the first few rows of the Dataframe\n",
    "print(df.head())"
   ]
  },
  {
   "cell_type": "code",
   "execution_count": 3,
   "id": "dd74e049",
   "metadata": {},
   "outputs": [
    {
     "data": {
      "text/html": [
       "<div>\n",
       "<style scoped>\n",
       "    .dataframe tbody tr th:only-of-type {\n",
       "        vertical-align: middle;\n",
       "    }\n",
       "\n",
       "    .dataframe tbody tr th {\n",
       "        vertical-align: top;\n",
       "    }\n",
       "\n",
       "    .dataframe thead th {\n",
       "        text-align: right;\n",
       "    }\n",
       "</style>\n",
       "<table border=\"1\" class=\"dataframe\">\n",
       "  <thead>\n",
       "    <tr style=\"text-align: right;\">\n",
       "      <th></th>\n",
       "      <th>Animal</th>\n",
       "      <th>Type</th>\n",
       "      <th>Habitat</th>\n",
       "      <th>Diet</th>\n",
       "      <th>Lifespan</th>\n",
       "      <th>Endangered</th>\n",
       "    </tr>\n",
       "  </thead>\n",
       "  <tbody>\n",
       "    <tr>\n",
       "      <th>0</th>\n",
       "      <td>Lion</td>\n",
       "      <td>Mammal</td>\n",
       "      <td>Grasslands</td>\n",
       "      <td>Carnivore</td>\n",
       "      <td>20</td>\n",
       "      <td>False</td>\n",
       "    </tr>\n",
       "    <tr>\n",
       "      <th>1</th>\n",
       "      <td>Penguin</td>\n",
       "      <td>Bird</td>\n",
       "      <td>Antarctica</td>\n",
       "      <td>Carnivore</td>\n",
       "      <td>15</td>\n",
       "      <td>False</td>\n",
       "    </tr>\n",
       "    <tr>\n",
       "      <th>2</th>\n",
       "      <td>Elephant</td>\n",
       "      <td>Mammal</td>\n",
       "      <td>Jungle</td>\n",
       "      <td>Herbivore</td>\n",
       "      <td>60</td>\n",
       "      <td>True</td>\n",
       "    </tr>\n",
       "    <tr>\n",
       "      <th>3</th>\n",
       "      <td>Giraffe</td>\n",
       "      <td>Mammal</td>\n",
       "      <td>Savannah</td>\n",
       "      <td>Herbivore</td>\n",
       "      <td>25</td>\n",
       "      <td>False</td>\n",
       "    </tr>\n",
       "    <tr>\n",
       "      <th>4</th>\n",
       "      <td>Dolphin</td>\n",
       "      <td>Mammal</td>\n",
       "      <td>Ocean</td>\n",
       "      <td>Carnivore</td>\n",
       "      <td>30</td>\n",
       "      <td>False</td>\n",
       "    </tr>\n",
       "    <tr>\n",
       "      <th>5</th>\n",
       "      <td>Tiger</td>\n",
       "      <td>Mammal</td>\n",
       "      <td>Jungle</td>\n",
       "      <td>Carnivore</td>\n",
       "      <td>15</td>\n",
       "      <td>True</td>\n",
       "    </tr>\n",
       "    <tr>\n",
       "      <th>6</th>\n",
       "      <td>Kangaroo</td>\n",
       "      <td>Mammal</td>\n",
       "      <td>Grasslands</td>\n",
       "      <td>Herbivore</td>\n",
       "      <td>20</td>\n",
       "      <td>False</td>\n",
       "    </tr>\n",
       "    <tr>\n",
       "      <th>7</th>\n",
       "      <td>Parrot</td>\n",
       "      <td>Bird</td>\n",
       "      <td>Rainforest</td>\n",
       "      <td>Herbivore</td>\n",
       "      <td>10</td>\n",
       "      <td>False</td>\n",
       "    </tr>\n",
       "    <tr>\n",
       "      <th>8</th>\n",
       "      <td>Panda</td>\n",
       "      <td>Mammal</td>\n",
       "      <td>Mountains</td>\n",
       "      <td>Herbivore</td>\n",
       "      <td>15</td>\n",
       "      <td>True</td>\n",
       "    </tr>\n",
       "    <tr>\n",
       "      <th>9</th>\n",
       "      <td>Cheetah</td>\n",
       "      <td>Mammal</td>\n",
       "      <td>Grasslands</td>\n",
       "      <td>Carnivore</td>\n",
       "      <td>12</td>\n",
       "      <td>False</td>\n",
       "    </tr>\n",
       "    <tr>\n",
       "      <th>10</th>\n",
       "      <td>Gorilla</td>\n",
       "      <td>Mammal</td>\n",
       "      <td>Jungle</td>\n",
       "      <td>Herbivore</td>\n",
       "      <td>35</td>\n",
       "      <td>False</td>\n",
       "    </tr>\n",
       "    <tr>\n",
       "      <th>11</th>\n",
       "      <td>Zebra</td>\n",
       "      <td>Mammal</td>\n",
       "      <td>Savannah</td>\n",
       "      <td>Herbivore</td>\n",
       "      <td>25</td>\n",
       "      <td>False</td>\n",
       "    </tr>\n",
       "    <tr>\n",
       "      <th>12</th>\n",
       "      <td>Eagle</td>\n",
       "      <td>Bird</td>\n",
       "      <td>Mountains</td>\n",
       "      <td>Carnivore</td>\n",
       "      <td>20</td>\n",
       "      <td>False</td>\n",
       "    </tr>\n",
       "    <tr>\n",
       "      <th>13</th>\n",
       "      <td>Koala</td>\n",
       "      <td>Mammal</td>\n",
       "      <td>Eucalyptus Forest</td>\n",
       "      <td>Herbivore</td>\n",
       "      <td>15</td>\n",
       "      <td>False</td>\n",
       "    </tr>\n",
       "    <tr>\n",
       "      <th>14</th>\n",
       "      <td>Polar Bear</td>\n",
       "      <td>Mammal</td>\n",
       "      <td>Arctic</td>\n",
       "      <td>Carnivore</td>\n",
       "      <td>25</td>\n",
       "      <td>True</td>\n",
       "    </tr>\n",
       "    <tr>\n",
       "      <th>15</th>\n",
       "      <td>Koala</td>\n",
       "      <td>Bird</td>\n",
       "      <td>Eucalyptus Forest</td>\n",
       "      <td>Herbivore</td>\n",
       "      <td>15</td>\n",
       "      <td>False</td>\n",
       "    </tr>\n",
       "    <tr>\n",
       "      <th>16</th>\n",
       "      <td>Hippopotamus</td>\n",
       "      <td>Mammal</td>\n",
       "      <td>Riverside</td>\n",
       "      <td>Herbivore</td>\n",
       "      <td>40</td>\n",
       "      <td>False</td>\n",
       "    </tr>\n",
       "    <tr>\n",
       "      <th>17</th>\n",
       "      <td>Penguin</td>\n",
       "      <td>Bird</td>\n",
       "      <td>Arctic</td>\n",
       "      <td>Carnivore</td>\n",
       "      <td>20</td>\n",
       "      <td>False</td>\n",
       "    </tr>\n",
       "    <tr>\n",
       "      <th>18</th>\n",
       "      <td>Kangaroo</td>\n",
       "      <td>Mammal</td>\n",
       "      <td>Australia</td>\n",
       "      <td>Herbivore</td>\n",
       "      <td>18</td>\n",
       "      <td>False</td>\n",
       "    </tr>\n",
       "    <tr>\n",
       "      <th>19</th>\n",
       "      <td>Leopard</td>\n",
       "      <td>Mammal</td>\n",
       "      <td>Jungle</td>\n",
       "      <td>Carnivore</td>\n",
       "      <td>12</td>\n",
       "      <td>False</td>\n",
       "    </tr>\n",
       "    <tr>\n",
       "      <th>20</th>\n",
       "      <td>Dolphin</td>\n",
       "      <td>Mammal</td>\n",
       "      <td>Seas</td>\n",
       "      <td>Carnivore</td>\n",
       "      <td>25</td>\n",
       "      <td>False</td>\n",
       "    </tr>\n",
       "    <tr>\n",
       "      <th>21</th>\n",
       "      <td>Giraffe</td>\n",
       "      <td>Mammal</td>\n",
       "      <td>Grasslands</td>\n",
       "      <td>Herbivore</td>\n",
       "      <td>22</td>\n",
       "      <td>False</td>\n",
       "    </tr>\n",
       "    <tr>\n",
       "      <th>22</th>\n",
       "      <td>Toucan</td>\n",
       "      <td>Bird</td>\n",
       "      <td>Rainforest</td>\n",
       "      <td>Herbivore</td>\n",
       "      <td>8</td>\n",
       "      <td>False</td>\n",
       "    </tr>\n",
       "    <tr>\n",
       "      <th>23</th>\n",
       "      <td>Elephant</td>\n",
       "      <td>Mammal</td>\n",
       "      <td>Savannah</td>\n",
       "      <td>Herbivore</td>\n",
       "      <td>55</td>\n",
       "      <td>True</td>\n",
       "    </tr>\n",
       "    <tr>\n",
       "      <th>24</th>\n",
       "      <td>Cheetah</td>\n",
       "      <td>Mammal</td>\n",
       "      <td>Savannah</td>\n",
       "      <td>Carnivore</td>\n",
       "      <td>10</td>\n",
       "      <td>False</td>\n",
       "    </tr>\n",
       "    <tr>\n",
       "      <th>25</th>\n",
       "      <td>Penguin</td>\n",
       "      <td>Bird</td>\n",
       "      <td>Antarctica</td>\n",
       "      <td>Carnivore</td>\n",
       "      <td>18</td>\n",
       "      <td>False</td>\n",
       "    </tr>\n",
       "    <tr>\n",
       "      <th>26</th>\n",
       "      <td>Kangaroo</td>\n",
       "      <td>Mammal</td>\n",
       "      <td>Grasslands</td>\n",
       "      <td>Herbivore</td>\n",
       "      <td>22</td>\n",
       "      <td>False</td>\n",
       "    </tr>\n",
       "    <tr>\n",
       "      <th>27</th>\n",
       "      <td>Panda</td>\n",
       "      <td>Mammal</td>\n",
       "      <td>Mountains</td>\n",
       "      <td>Herbivore</td>\n",
       "      <td>18</td>\n",
       "      <td>True</td>\n",
       "    </tr>\n",
       "    <tr>\n",
       "      <th>28</th>\n",
       "      <td>Tiger</td>\n",
       "      <td>Mammal</td>\n",
       "      <td>Jungle</td>\n",
       "      <td>Carnivore</td>\n",
       "      <td>14</td>\n",
       "      <td>True</td>\n",
       "    </tr>\n",
       "    <tr>\n",
       "      <th>29</th>\n",
       "      <td>Hippopotamus</td>\n",
       "      <td>Mammal</td>\n",
       "      <td>Riverside</td>\n",
       "      <td>Herbivore</td>\n",
       "      <td>38</td>\n",
       "      <td>False</td>\n",
       "    </tr>\n",
       "  </tbody>\n",
       "</table>\n",
       "</div>"
      ],
      "text/plain": [
       "          Animal    Type            Habitat       Diet  Lifespan  Endangered\n",
       "0           Lion  Mammal         Grasslands  Carnivore        20       False\n",
       "1        Penguin    Bird         Antarctica  Carnivore        15       False\n",
       "2       Elephant  Mammal             Jungle  Herbivore        60        True\n",
       "3        Giraffe  Mammal           Savannah  Herbivore        25       False\n",
       "4        Dolphin  Mammal              Ocean  Carnivore        30       False\n",
       "5          Tiger  Mammal             Jungle  Carnivore        15        True\n",
       "6       Kangaroo  Mammal         Grasslands  Herbivore        20       False\n",
       "7         Parrot    Bird         Rainforest  Herbivore        10       False\n",
       "8          Panda  Mammal          Mountains  Herbivore        15        True\n",
       "9        Cheetah  Mammal         Grasslands  Carnivore        12       False\n",
       "10       Gorilla  Mammal             Jungle  Herbivore        35       False\n",
       "11         Zebra  Mammal           Savannah  Herbivore        25       False\n",
       "12         Eagle    Bird          Mountains  Carnivore        20       False\n",
       "13         Koala  Mammal  Eucalyptus Forest  Herbivore        15       False\n",
       "14    Polar Bear  Mammal             Arctic  Carnivore        25        True\n",
       "15         Koala    Bird  Eucalyptus Forest  Herbivore        15       False\n",
       "16  Hippopotamus  Mammal          Riverside  Herbivore        40       False\n",
       "17       Penguin    Bird             Arctic  Carnivore        20       False\n",
       "18      Kangaroo  Mammal          Australia  Herbivore        18       False\n",
       "19       Leopard  Mammal             Jungle  Carnivore        12       False\n",
       "20       Dolphin  Mammal               Seas  Carnivore        25       False\n",
       "21       Giraffe  Mammal         Grasslands  Herbivore        22       False\n",
       "22        Toucan    Bird         Rainforest  Herbivore         8       False\n",
       "23      Elephant  Mammal           Savannah  Herbivore        55        True\n",
       "24       Cheetah  Mammal           Savannah  Carnivore        10       False\n",
       "25       Penguin    Bird         Antarctica  Carnivore        18       False\n",
       "26      Kangaroo  Mammal         Grasslands  Herbivore        22       False\n",
       "27         Panda  Mammal          Mountains  Herbivore        18        True\n",
       "28         Tiger  Mammal             Jungle  Carnivore        14        True\n",
       "29  Hippopotamus  Mammal          Riverside  Herbivore        38       False"
      ]
     },
     "execution_count": 3,
     "metadata": {},
     "output_type": "execute_result"
    }
   ],
   "source": [
    "df"
   ]
  },
  {
   "cell_type": "code",
   "execution_count": 9,
   "id": "8dcbd221",
   "metadata": {},
   "outputs": [],
   "source": [
    "import pandas as pd\n",
    "import matplotlib.pyplot as plt"
   ]
  },
  {
   "cell_type": "code",
   "execution_count": 10,
   "id": "05588d47",
   "metadata": {},
   "outputs": [
    {
     "name": "stdout",
     "output_type": "stream",
     "text": [
      "Data types of each column:\n",
      "Animal        object\n",
      "Type          object\n",
      "Habitat       object\n",
      "Diet          object\n",
      "Lifespan       int64\n",
      "Endangered      bool\n",
      "dtype: object\n"
     ]
    }
   ],
   "source": [
    "data_types = df.dtypes\n",
    "print(\"Data types of each column:\")\n",
    "print(data_types)"
   ]
  },
  {
   "cell_type": "code",
   "execution_count": 12,
   "id": "8942b8ce",
   "metadata": {},
   "outputs": [
    {
     "name": "stdout",
     "output_type": "stream",
     "text": [
      "Names of all animals\n",
      "          Animal\n",
      "0           Lion\n",
      "1        Penguin\n",
      "2       Elephant\n",
      "3        Giraffe\n",
      "4        Dolphin\n",
      "5          Tiger\n",
      "6       Kangaroo\n",
      "7         Parrot\n",
      "8          Panda\n",
      "9        Cheetah\n",
      "10       Gorilla\n",
      "11         Zebra\n",
      "12         Eagle\n",
      "13         Koala\n",
      "14    Polar Bear\n",
      "15         Koala\n",
      "16  Hippopotamus\n",
      "17       Penguin\n",
      "18      Kangaroo\n",
      "19       Leopard\n",
      "20       Dolphin\n",
      "21       Giraffe\n",
      "22        Toucan\n",
      "23      Elephant\n",
      "24       Cheetah\n",
      "25       Penguin\n",
      "26      Kangaroo\n",
      "27         Panda\n",
      "28         Tiger\n",
      "29  Hippopotamus\n"
     ]
    }
   ],
   "source": [
    "animal_names = df[['Animal']]\n",
    "print(\"Names of all animals\")\n",
    "print(animal_names)"
   ]
  },
  {
   "cell_type": "code",
   "execution_count": 13,
   "id": "1d8e3a6c",
   "metadata": {},
   "outputs": [
    {
     "name": "stdout",
     "output_type": "stream",
     "text": [
      "Enter a habitat to search for: Jungle\n",
      "animals with habitat Jungle: \n",
      "      Animal    Type       Diet\n",
      "2   Elephant  Mammal  Herbivore\n",
      "5      Tiger  Mammal  Carnivore\n",
      "10   Gorilla  Mammal  Herbivore\n",
      "19   Leopard  Mammal  Carnivore\n",
      "28     Tiger  Mammal  Carnivore\n"
     ]
    }
   ],
   "source": [
    "hab =input(\"Enter a habitat to search for: \")\n",
    "animal_hab =df[df['Habitat']==hab]\n",
    "print(f\"animals with habitat {hab}: \")\n",
    "print(animal_hab[['Animal','Type','Diet']])"
   ]
  },
  {
   "cell_type": "code",
   "execution_count": 5,
   "id": "1ab1b62d",
   "metadata": {},
   "outputs": [
    {
     "name": "stdout",
     "output_type": "stream",
     "text": [
      "Enter the age limit: 20\n",
      "Animal who live more than20years:\n",
      "          Animal    Type  Lifespan\n",
      "2       Elephant  Mammal        60\n",
      "3        Giraffe  Mammal        25\n",
      "4        Dolphin  Mammal        30\n",
      "10       Gorilla  Mammal        35\n",
      "11         Zebra  Mammal        25\n",
      "14    Polar Bear  Mammal        25\n",
      "16  Hippopotamus  Mammal        40\n",
      "20       Dolphin  Mammal        25\n",
      "21       Giraffe  Mammal        22\n",
      "23      Elephant  Mammal        55\n",
      "26      Kangaroo  Mammal        22\n",
      "29  Hippopotamus  Mammal        38\n"
     ]
    }
   ],
   "source": [
    "age_limit = int(input(\"Enter the age limit: \"))\n",
    "older_animals =df[df['Lifespan'] >age_limit]\n",
    "print(f\"Animal who live more than{age_limit}years:\")\n",
    "print(older_animals[['Animal','Type','Lifespan']])"
   ]
  },
  {
   "cell_type": "code",
   "execution_count": 7,
   "id": "d990e2dc",
   "metadata": {},
   "outputs": [
    {
     "name": "stdout",
     "output_type": "stream",
     "text": [
      "All animals sorted by age: \n",
      "          Animal    Type            Habitat  Lifespan\n",
      "2       Elephant  Mammal             Jungle        60\n",
      "23      Elephant  Mammal           Savannah        55\n",
      "16  Hippopotamus  Mammal          Riverside        40\n",
      "29  Hippopotamus  Mammal          Riverside        38\n",
      "10       Gorilla  Mammal             Jungle        35\n",
      "4        Dolphin  Mammal              Ocean        30\n",
      "14    Polar Bear  Mammal             Arctic        25\n",
      "3        Giraffe  Mammal           Savannah        25\n",
      "20       Dolphin  Mammal               Seas        25\n",
      "11         Zebra  Mammal           Savannah        25\n",
      "26      Kangaroo  Mammal         Grasslands        22\n",
      "21       Giraffe  Mammal         Grasslands        22\n",
      "17       Penguin    Bird             Arctic        20\n",
      "0           Lion  Mammal         Grasslands        20\n",
      "12         Eagle    Bird          Mountains        20\n",
      "6       Kangaroo  Mammal         Grasslands        20\n",
      "18      Kangaroo  Mammal          Australia        18\n",
      "25       Penguin    Bird         Antarctica        18\n",
      "27         Panda  Mammal          Mountains        18\n",
      "13         Koala  Mammal  Eucalyptus Forest        15\n",
      "1        Penguin    Bird         Antarctica        15\n",
      "8          Panda  Mammal          Mountains        15\n",
      "5          Tiger  Mammal             Jungle        15\n",
      "15         Koala    Bird  Eucalyptus Forest        15\n",
      "28         Tiger  Mammal             Jungle        14\n",
      "9        Cheetah  Mammal         Grasslands        12\n",
      "19       Leopard  Mammal             Jungle        12\n",
      "7         Parrot    Bird         Rainforest        10\n",
      "24       Cheetah  Mammal           Savannah        10\n",
      "22        Toucan    Bird         Rainforest         8\n"
     ]
    }
   ],
   "source": [
    "sorted_by_age =df.sort_values(by='Lifespan',ascending=False)\n",
    "print(\"All animals sorted by age: \")\n",
    "print(sorted_by_age[['Animal','Type','Habitat','Lifespan']])"
   ]
  },
  {
   "cell_type": "code",
   "execution_count": 9,
   "id": "5cd4ec70",
   "metadata": {},
   "outputs": [
    {
     "name": "stdout",
     "output_type": "stream",
     "text": [
      "Unique values in the column\n",
      "['Mammal' 'Bird']\n"
     ]
    }
   ],
   "source": [
    "unique_types =df['Type'].unique()\n",
    "print(\"Unique values in the column\")\n",
    "print(unique_types)"
   ]
  },
  {
   "cell_type": "code",
   "execution_count": 10,
   "id": "3cc70429",
   "metadata": {},
   "outputs": [
    {
     "name": "stdout",
     "output_type": "stream",
     "text": [
      "Count of occurance for each type: \n",
      "Type\n",
      "Mammal    23\n",
      "Bird       7\n",
      "Name: count, dtype: int64\n"
     ]
    }
   ],
   "source": [
    "type_counts =df['Type'].value_counts()\n",
    "print(\"Count of occurance for each type: \")\n",
    "print(type_counts)"
   ]
  },
  {
   "cell_type": "code",
   "execution_count": 15,
   "id": "72db6b54",
   "metadata": {},
   "outputs": [
    {
     "data": {
      "image/png": "[encoded data removed]",
      "text/plain": [
       "<Figure size 800x800 with 1 Axes>"
      ]
     },
     "metadata": {},
     "output_type": "display_data"
    }
   ],
   "source": [
    "import matplotlib.pyplot as plt\n",
    "plt.figure(figsize =(8,8))\n",
    "type_counts =df['Type'].value_counts()\n",
    "plt.pie(type_counts,labels = type_counts.index, autopct ='%1.1f%%', startangle = 90)\n",
    "plt.title(\"Distribution of Type of Animals: \")\n",
    "plt.show()"
   ]
  },
  {
   "cell_type": "code",
   "execution_count": 22,
   "id": "b098e9a4",
   "metadata": {},
   "outputs": [
    {
     "data": {
      "image/png": "[encoded data removed]",
      "text/plain": [
       "<Figure size 800x800 with 1 Axes>"
      ]
     },
     "metadata": {},
     "output_type": "display_data"
    }
   ],
   "source": [
    "import matplotlib.pyplot as plt\n",
    "plt.figure(figsize =(8,8))\n",
    "Diet_counts =df['Diet'].value_counts()\n",
    "plt.pie(Diet_counts,labels = type_counts.index, autopct ='%1.1f%%', startangle = 90, colors =['lavender','lightgreen'])\n",
    "plt.title(\"Distribution of Animals Based on Diet: \")\n",
    "plt.show()"
   ]
  },
  {
   "cell_type": "code",
   "execution_count": 27,
   "id": "2ed2d5a8",
   "metadata": {},
   "outputs": [
    {
     "data": {
      "text/plain": [
       "<function matplotlib.pyplot.show(close=None, block=None)>"
      ]
     },
     "execution_count": 27,
     "metadata": {},
     "output_type": "execute_result"
    },
    {
     "data": {
      "image/png": "[encoded data removed]",
      "text/plain": [
       "<Figure size 1200x600 with 1 Axes>"
      ]
     },
     "metadata": {},
     "output_type": "display_data"
    }
   ],
   "source": [
    "plt.figure(figsize =(12,6))\n",
    "hab_counts =df['Habitat'].value_counts()\n",
    "hab_counts.plot(kind ='bar', color ='lightgreen')\n",
    "plt.xlabel(\"Habitat\")\n",
    "plt.ylabel(\"Number of Animals\")\n",
    "plt.title(\"Number of animals vs habitat\")\n",
    "plt.xticks(rotation =45, ha =\"right\")\n",
    "plt.tight_layout()\n",
    "plt.show"
   ]
  },
  {
   "cell_type": "code",
   "execution_count": null,
   "id": "92d17e7d",
   "metadata": {},
   "outputs": [],
   "source": []
  }
 ],
 "metadata": {
  "kernelspec": {
   "display_name": "Python 3 (ipykernel)",
   "language": "python",
   "name": "python3"
  },
  "language_info": {
   "codemirror_mode": {
    "name": "ipython",
    "version": 3
   },
   "file_extension": ".py",
   "mimetype": "text/x-python",
   "name": "python",
   "nbconvert_exporter": "python",
   "pygments_lexer": "ipython3",
   "version": "3.11.5"
  }
 },
 "nbformat": 4,
 "nbformat_minor": 5
}
