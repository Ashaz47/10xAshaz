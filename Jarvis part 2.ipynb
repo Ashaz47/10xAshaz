{
 "cells": [
  {
   "cell_type": "code",
   "execution_count": 1,
   "id": "621b2c30",
   "metadata": {},
   "outputs": [
    {
     "name": "stdout",
     "output_type": "stream",
     "text": [
      "Jarvis : Welcome sir!\n"
     ]
    }
   ],
   "source": [
    "# Jarvis Greeting#\n",
    "for x in range(1):\n",
    "    print(\"Jarvis : Welcome sir!\")"
   ]
  },
  {
   "cell_type": "code",
   "execution_count": 2,
   "id": "46a9d516",
   "metadata": {},
   "outputs": [
    {
     "name": "stdout",
     "output_type": "stream",
     "text": [
      "Iron man fires repulsor blast # 1 !\n",
      "Iron man fires repulsor blast # 2 !\n",
      "Iron man fires repulsor blast # 3 !\n",
      "Iron man fires repulsor blast # 4 !\n",
      "Iron man fires repulsor blast # 5 !\n"
     ]
    }
   ],
   "source": [
    "#Repulsor Blast Sequence#\n",
    "for blast_number in range(1,6):\n",
    "    print (\"Iron man fires repulsor blast #\",blast_number,\"!\")"
   ]
  },
  {
   "cell_type": "code",
   "execution_count": 5,
   "id": "25228ad3",
   "metadata": {},
   "outputs": [
    {
     "name": "stdout",
     "output_type": "stream",
     "text": [
      "Ironman's Flight path :\n",
      "Stark Tower\n",
      "Avengers Tower\n",
      "S.H.E.I.L.D. Helicarier\n",
      "Malibu Mansion\n"
     ]
    }
   ],
   "source": [
    "#Flight path Display#\n",
    "flight_path = [\"Stark Tower\",\"Avengers Tower\",\"S.H.E.I.L.D. Helicarier\",\"Malibu Mansion\"]\n",
    "print(\"Ironman's Flight path :\")\n",
    "for location in flight_path:\n",
    "    print(location)"
   ]
  },
  {
   "cell_type": "code",
   "execution_count": 7,
   "id": "0293850e",
   "metadata": {},
   "outputs": [
    {
     "name": "stdout",
     "output_type": "stream",
     "text": [
      "Initiating repulsor suit upgrade secquence: \n",
      "Upgrade in 5 seconds...\n",
      "Upgrade in 4 seconds...\n",
      "Upgrade in 3 seconds...\n",
      "Upgrade in 2 seconds...\n",
      "Upgrade in 1 seconds...\n",
      "Upgrade complete. Maximum effeciencey reached.\n"
     ]
    }
   ],
   "source": [
    "#Repulsor Suit Upgrade Countdown#\n",
    "print(\"Initiating repulsor suit upgrade secquence: \")\n",
    "for seconds in range(5,0,-1):\n",
    "     print(\"Upgrade in\",seconds,\"seconds...\")\n",
    "print(\"Upgrade complete. Maximum effeciencey reached.\")"
   ]
  },
  {
   "cell_type": "code",
   "execution_count": 9,
   "id": "95a4ab7b",
   "metadata": {},
   "outputs": [
    {
     "name": "stdout",
     "output_type": "stream",
     "text": [
      "Charging repulsor blasters...( 0 %)\n",
      "Charging repulsor blasters...( 20 %)\n",
      "Charging repulsor blasters...( 40 %)\n",
      "Charging repulsor blasters...( 60 %)\n",
      "Charging repulsor blasters...( 80 %)\n",
      "Charging repulsor blasters...( 100 %)\n",
      "Repulsor blasters fully chaged, Ready to shoot!! \n"
     ]
    }
   ],
   "source": [
    "#Repulsor Charge Calibration #\n",
    "charge_level = 0\n",
    "while charge_level <= 100:\n",
    "    print(\"Charging repulsor blasters...(\",charge_level,\"%)\")\n",
    "    charge_level += 20\n",
    "print(\"Repulsor blasters fully chaged, Ready to shoot!! \")"
   ]
  },
  {
   "cell_type": "code",
   "execution_count": 10,
   "id": "85e2e66a",
   "metadata": {},
   "outputs": [
    {
     "name": "stdout",
     "output_type": "stream",
     "text": [
      "1\n",
      "3\n",
      "5\n",
      "7\n",
      "9\n"
     ]
    }
   ],
   "source": [
    "#Using continue to skip certain iterations#\n",
    "for number in range(1,11):\n",
    "    if number % 2==0:\n",
    "        continue\n",
    "    print(number)"
   ]
  },
  {
   "cell_type": "code",
   "execution_count": 12,
   "id": "aca9d192",
   "metadata": {},
   "outputs": [
    {
     "name": "stdout",
     "output_type": "stream",
     "text": [
      "1\n",
      "2\n",
      "3\n",
      "4\n"
     ]
    }
   ],
   "source": [
    "#Using break to exit loop #\n",
    "for number in range(1,11):\n",
    "    if number == 5:\n",
    "        break\n",
    "    print(number)\n"
   ]
  },
  {
   "cell_type": "code",
   "execution_count": null,
   "id": "e00dc1f3",
   "metadata": {},
   "outputs": [],
   "source": []
  }
 ],
 "metadata": {
  "kernelspec": {
   "display_name": "Python 3 (ipykernel)",
   "language": "python",
   "name": "python3"
  },
  "language_info": {
   "codemirror_mode": {
    "name": "ipython",
    "version": 3
   },
   "file_extension": ".py",
   "mimetype": "text/x-python",
   "name": "python",
   "nbconvert_exporter": "python",
   "pygments_lexer": "ipython3",
   "version": "3.11.5"
  }
 },
 "nbformat": 4,
 "nbformat_minor": 5
}
