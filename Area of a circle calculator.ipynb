{
 "cells": [
  {
   "cell_type": "code",
   "execution_count": 4,
   "id": "c7e17198",
   "metadata": {},
   "outputs": [
    {
     "name": "stdout",
     "output_type": "stream",
     "text": [
      "enter circle radius here : 4\n",
      "50.24 m\n"
     ]
    }
   ],
   "source": [
    "radius =int(input(\"enter circle radius here : \"))\n",
    "\n",
    "def calculate_circle_area(radius):\n",
    "    return 3.14*radius*radius\n",
    "\n",
    "a = calculate_circle_area(radius)\n",
    "print (a,\"m\")"
   ]
  },
  {
   "cell_type": "code",
   "execution_count": null,
   "id": "068e3cb9",
   "metadata": {},
   "outputs": [],
   "source": []
  }
 ],
 "metadata": {
  "kernelspec": {
   "display_name": "Python 3 (ipykernel)",
   "language": "python",
   "name": "python3"
  },
  "language_info": {
   "codemirror_mode": {
    "name": "ipython",
    "version": 3
   },
   "file_extension": ".py",
   "mimetype": "text/x-python",
   "name": "python",
   "nbconvert_exporter": "python",
   "pygments_lexer": "ipython3",
   "version": "3.11.5"
  }
 },
 "nbformat": 4,
 "nbformat_minor": 5
}
