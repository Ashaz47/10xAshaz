{
 "cells": [
  {
   "cell_type": "code",
   "execution_count": 4,
   "id": "c12d72f6",
   "metadata": {},
   "outputs": [
    {
     "name": "stdout",
     "output_type": "stream",
     "text": [
      "Enter the base repulsor power(Kw): 76\n",
      "Enter the charge percentage(0-100%): 22\n",
      "Iron Man's repulsor blast power is  238.85714285714286 Kw.\n"
     ]
    }
   ],
   "source": [
    "# Repulsor Blast Power Calculation :\n",
    "\n",
    "Base_power = float(input(\"Enter the base repulsor power(Kw): \"))\n",
    "Charge_percent = float(input(\"Enter the charge percentage(0-100%): \"))\n",
    "\n",
    "Actual_power = Base_power*(Charge_percent/100)\n",
    "print(\"Iron Man's repulsor blast power is \", Actual_power, \"Kw.\")"
   ]
  },
  {
   "cell_type": "code",
   "execution_count": null,
   "id": "bec4f32a",
   "metadata": {},
   "outputs": [],
   "source": []
  },
  {
   "cell_type": "code",
   "execution_count": null,
   "id": "ca35ff2e",
   "metadata": {},
   "outputs": [],
   "source": []
  }
 ],
 "metadata": {
  "kernelspec": {
   "display_name": "Python 3 (ipykernel)",
   "language": "python",
   "name": "python3"
  },
  "language_info": {
   "codemirror_mode": {
    "name": "ipython",
    "version": 3
   },
   "file_extension": ".py",
   "mimetype": "text/x-python",
   "name": "python",
   "nbconvert_exporter": "python",
   "pygments_lexer": "ipython3",
   "version": "3.11.5"
  }
 },
 "nbformat": 4,
 "nbformat_minor": 5
}
