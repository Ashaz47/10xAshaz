{
 "cells": [
  {
   "cell_type": "code",
   "execution_count": 14,
   "id": "2b2d8ab3",
   "metadata": {},
   "outputs": [
    {
     "name": "stdout",
     "output_type": "stream",
     "text": [
      "please enter your weight here(in kg): 84\n",
      "please enter your height(in m): 1.83\n",
      "you are overweight \n"
     ]
    }
   ],
   "source": [
    "yourweight =float(input(\"please enter your weight here(in kg): \"))\n",
    "yourheight =float(input(\"please enter your height(in m): \"))\n",
    "BMI = yourweight/(yourheight *yourheight)\n",
    "if BMI < 18.5 :\n",
    "    print(\"you are underweight\")\n",
    "elif BMI >= 18.5 and BMI<=24.9 :\n",
    "    print(\"you are healthy weight\")\n",
    "elif BMI >=25.0 and BMI <= 29.9 :\n",
    "    print (\"you are overweight \")\n",
    "else:\n",
    "    print(\"you are obese\")\n"
   ]
  },
  {
   "cell_type": "code",
   "execution_count": null,
   "id": "88bef0b4",
   "metadata": {},
   "outputs": [],
   "source": []
  },
  {
   "cell_type": "code",
   "execution_count": null,
   "id": "d92e34c9",
   "metadata": {},
   "outputs": [],
   "source": []
  }
 ],
 "metadata": {
  "kernelspec": {
   "display_name": "Python 3 (ipykernel)",
   "language": "python",
   "name": "python3"
  },
  "language_info": {
   "codemirror_mode": {
    "name": "ipython",
    "version": 3
   },
   "file_extension": ".py",
   "mimetype": "text/x-python",
   "name": "python",
   "nbconvert_exporter": "python",
   "pygments_lexer": "ipython3",
   "version": "3.11.5"
  }
 },
 "nbformat": 4,
 "nbformat_minor": 5
}
