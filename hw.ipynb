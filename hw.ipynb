{
 "cells": [
  {
   "cell_type": "code",
   "execution_count": 3,
   "id": "c7abca2e",
   "metadata": {},
   "outputs": [
    {
     "name": "stdout",
     "output_type": "stream",
     "text": [
      "Enter the amount of movies you want to store : 2\n",
      "Enter movie rating: 2\n",
      "Enter the name of  movie: r\n",
      "Enter movie rating: 5\n",
      "Enter the name of  movie: s\n",
      "Here are the results:  {'r': 2, 's': 5}\n"
     ]
    },
    {
     "ename": "AttributeError",
     "evalue": "'dict' object has no attribute 'max'",
     "output_type": "error",
     "traceback": [
      "\u001b[1;31m---------------------------------------------------------------------------\u001b[0m",
      "\u001b[1;31mAttributeError\u001b[0m                            Traceback (most recent call last)",
      "Cell \u001b[1;32mIn[3], line 10\u001b[0m\n\u001b[0;32m      8\u001b[0m     \u001b[38;5;28mprint\u001b[39m(\u001b[38;5;124m\"\u001b[39m\u001b[38;5;124mInvalid\u001b[39m\u001b[38;5;124m\"\u001b[39m)\n\u001b[0;32m      9\u001b[0m \u001b[38;5;28mprint\u001b[39m(\u001b[38;5;124m\"\u001b[39m\u001b[38;5;124mHere are the results: \u001b[39m\u001b[38;5;124m\"\u001b[39m,B)\n\u001b[1;32m---> 10\u001b[0m \u001b[38;5;28mprint\u001b[39m(\u001b[38;5;124m\"\u001b[39m\u001b[38;5;124mMaximum liked movie\u001b[39m\u001b[38;5;124m\"\u001b[39m,B\u001b[38;5;241m.\u001b[39mmax())\n",
      "\u001b[1;31mAttributeError\u001b[0m: 'dict' object has no attribute 'max'"
     ]
    }
   ],
   "source": [
    "A =int(input(\"Enter the amount of movies you want to store : \"))\n",
    "B ={}\n",
    "if A > 0:\n",
    "    while A > 0:\n",
    "        B[str(input(\"Enter the name of  movie: \"))] = int(input(\"Enter movie rating: \"))\n",
    "        A-=1\n",
    "else:\n",
    "    print(\"Invalid\")\n",
    "print(\"Here are the results: \",B)\n",
    "print(\"Maximum liked movie\",B.max())"
   ]
  },
  {
   "cell_type": "code",
   "execution_count": null,
   "id": "b85532f4",
   "metadata": {},
   "outputs": [],
   "source": []
  },
  {
   "cell_type": "code",
   "execution_count": null,
   "id": "fa7dfd4c",
   "metadata": {},
   "outputs": [],
   "source": []
  }
 ],
 "metadata": {
  "kernelspec": {
   "display_name": "Python 3 (ipykernel)",
   "language": "python",
   "name": "python3"
  },
  "language_info": {
   "codemirror_mode": {
    "name": "ipython",
    "version": 3
   },
   "file_extension": ".py",
   "mimetype": "text/x-python",
   "name": "python",
   "nbconvert_exporter": "python",
   "pygments_lexer": "ipython3",
   "version": "3.11.5"
  }
 },
 "nbformat": 4,
 "nbformat_minor": 5
}
