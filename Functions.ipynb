{
 "cells": [
  {
   "cell_type": "code",
   "execution_count": 1,
   "id": "1aade50d",
   "metadata": {},
   "outputs": [
    {
     "name": "stdout",
     "output_type": "stream",
     "text": [
      "Ashaz is a good boy.\n"
     ]
    }
   ],
   "source": [
    "def ashaz():\n",
    "    print(\"Ashaz is a good boy.\")\n",
    "ashaz()"
   ]
  },
  {
   "cell_type": "code",
   "execution_count": 8,
   "id": "bb34aea0",
   "metadata": {
    "scrolled": true
   },
   "outputs": [
    {
     "name": "stdout",
     "output_type": "stream",
     "text": [
      "40\n"
     ]
    }
   ],
   "source": [
    "\n",
    "def multiply(x):\n",
    "  \n",
    "    return(x * 5)\n",
    "print(multiply(8))\n"
   ]
  },
  {
   "cell_type": "code",
   "execution_count": 9,
   "id": "d27c6d03",
   "metadata": {},
   "outputs": [
    {
     "name": "stdout",
     "output_type": "stream",
     "text": [
      "42\n"
     ]
    }
   ],
   "source": [
    "print(6*7)"
   ]
  },
  {
   "cell_type": "code",
   "execution_count": 9,
   "id": "0f27fc99",
   "metadata": {},
   "outputs": [
    {
     "name": "stdout",
     "output_type": "stream",
     "text": [
      "Enter your health here :70\n",
      "You are good in health\n"
     ]
    }
   ],
   "source": [
    "health = int(input(\"Enter your health here :\"))\n",
    "def suitcheck(health):\n",
    "    if (health <= 100) and (health >50):\n",
    "        return (\"You are good in health\")\n",
    "    elif (health <= 50) and(health >= 20):\n",
    "        return(\"Little damage was done\")\n",
    "    else :\n",
    "        return(\"You are in critical condition \")\n",
    "    \n",
    "print(suitcheck(health))\n",
    "\n"
   ]
  },
  {
   "cell_type": "code",
   "execution_count": null,
   "id": "3be0eb78",
   "metadata": {},
   "outputs": [],
   "source": []
  },
  {
   "cell_type": "code",
   "execution_count": null,
   "id": "1af63a49",
   "metadata": {},
   "outputs": [],
   "source": []
  }
 ],
 "metadata": {
  "kernelspec": {
   "display_name": "Python 3 (ipykernel)",
   "language": "python",
   "name": "python3"
  },
  "language_info": {
   "codemirror_mode": {
    "name": "ipython",
    "version": 3
   },
   "file_extension": ".py",
   "mimetype": "text/x-python",
   "name": "python",
   "nbconvert_exporter": "python",
   "pygments_lexer": "ipython3",
   "version": "3.11.5"
  }
 },
 "nbformat": 4,
 "nbformat_minor": 5
}
