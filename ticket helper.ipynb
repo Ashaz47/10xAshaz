{
 "cells": [
  {
   "cell_type": "code",
   "execution_count": 16,
   "id": "0b6dc12f",
   "metadata": {},
   "outputs": [
    {
     "name": "stdout",
     "output_type": "stream",
     "text": [
      "please enter your age(0 to 100) : 0\n",
      "sorry can not process\n"
     ]
    }
   ],
   "source": [
    "age =int(input(\"please enter your age(0 to 100) : \")) \n",
    "if age>100 or age==0:\n",
    "    print(\"sorry can not process\")\n",
    "elif age<12:\n",
    "    print(\"please pay $5\")\n",
    "elif age>12 and age<64:\n",
    "    print(\"please pay $ 10\")\n",
    "elif age>65:\n",
    "    print(\"please pay $ 7\")"
   ]
  },
  {
   "cell_type": "code",
   "execution_count": null,
   "id": "524149d1",
   "metadata": {},
   "outputs": [],
   "source": []
  }
 ],
 "metadata": {
  "kernelspec": {
   "display_name": "Python 3 (ipykernel)",
   "language": "python",
   "name": "python3"
  },
  "language_info": {
   "codemirror_mode": {
    "name": "ipython",
    "version": 3
   },
   "file_extension": ".py",
   "mimetype": "text/x-python",
   "name": "python",
   "nbconvert_exporter": "python",
   "pygments_lexer": "ipython3",
   "version": "3.11.5"
  }
 },
 "nbformat": 4,
 "nbformat_minor": 5
}
